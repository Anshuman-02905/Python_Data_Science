{
 "cells": [
  {
   "cell_type": "markdown",
   "id": "110074d3-e391-40ab-baa0-dd8e2af68394",
   "metadata": {},
   "source": [
    "\n",
    "Build a small banking interface where a user can login himself and check his balance, last 5 transactions and withdraw or deposit money. Every user should have a different username and password. Also create a directory for each user. The directory should contain two files. One which has the credentials of the user and the other which has the transactions continuously getting stored in it. \n"
   ]
  },
  {
   "cell_type": "code",
   "execution_count": 13,
   "id": "2e03c922-5045-4d68-a013-5fc5b62f494b",
   "metadata": {},
   "outputs": [],
   "source": [
    "class User:\n",
    "    def __init__(self,username,password,balance=0):\n",
    "        self.username=username\n",
    "        self.pasword=password\n",
    "        self.balance=balance\n",
    "        self.transactions=[]\n",
    "    def deposit(self,amount):\n",
    "        if amount>0:\n",
    "            self.balance+=amount\n",
    "            self.transactions.append(f\"Deposited {amount}\")\n",
    "    \n",
    "    def withdraw(self,amount):\n",
    "        if 0<amount and amount<self.balance:\n",
    "            self.balance+=amount\n",
    "            self.transactions.append(f\"Deposited {amount}\")\n",
    "    def get_balance(self):\n",
    "        return self.balance\n",
    "    def get_last_transactions(self,n=5):\n",
    "        return self.transactions[-n:]\n",
    "    "
   ]
  },
  {
   "cell_type": "code",
   "execution_count": 19,
   "id": "c8e2a291-873b-4f74-b2f5-5f8d84f9c3cb",
   "metadata": {},
   "outputs": [],
   "source": [
    "person1=User(\"Anshuman\",\"password\",1000)\n",
    "person2=User(\"Mandal\",\"password$$\",2000)"
   ]
  },
  {
   "cell_type": "code",
   "execution_count": 20,
   "id": "12c97443-b29b-4e2b-8230-84771a7b79b9",
   "metadata": {},
   "outputs": [],
   "source": [
    "person1.deposit(200)\n",
    "person2.deposit(300)\n",
    "\n",
    "person1.deposit(700)\n",
    "person2.deposit(800)\n",
    "\n",
    "person1.deposit(1000)\n",
    "person2.deposit(1000)\n",
    "\n",
    "person1.withdraw(20)\n",
    "person2.withdraw(30)\n",
    "\n",
    "person1.withdraw(50)\n",
    "person2.withdraw(60)\n",
    "\n",
    "person1.withdraw(70)\n",
    "person2.withdraw(80)\n",
    "\n",
    "person1.withdraw(100)\n",
    "person2.withdraw(200)"
   ]
  },
  {
   "cell_type": "code",
   "execution_count": 21,
   "id": "4900e23d-860e-4f3c-a0f7-29df06090008",
   "metadata": {},
   "outputs": [
    {
     "data": {
      "text/plain": [
       "3140"
      ]
     },
     "execution_count": 21,
     "metadata": {},
     "output_type": "execute_result"
    }
   ],
   "source": [
    "person1.get_balance()"
   ]
  },
  {
   "cell_type": "code",
   "execution_count": 22,
   "id": "8cc5b228-821e-48c5-aab2-5592dd7f64a9",
   "metadata": {},
   "outputs": [
    {
     "data": {
      "text/plain": [
       "4470"
      ]
     },
     "execution_count": 22,
     "metadata": {},
     "output_type": "execute_result"
    }
   ],
   "source": [
    "person2.get_balance()"
   ]
  },
  {
   "cell_type": "code",
   "execution_count": 23,
   "id": "76e601d7-637f-40c6-8a27-85f79a0f83cf",
   "metadata": {},
   "outputs": [
    {
     "data": {
      "text/plain": [
       "['Deposited 1000',\n",
       " 'Deposited 20',\n",
       " 'Deposited 50',\n",
       " 'Deposited 70',\n",
       " 'Deposited 100']"
      ]
     },
     "execution_count": 23,
     "metadata": {},
     "output_type": "execute_result"
    }
   ],
   "source": [
    "person1.get_last_transactions()"
   ]
  },
  {
   "cell_type": "code",
   "execution_count": null,
   "id": "d0819751-0f16-4b47-8428-29df8899f698",
   "metadata": {},
   "outputs": [],
   "source": []
  }
 ],
 "metadata": {
  "kernelspec": {
   "display_name": "Python 3 (ipykernel)",
   "language": "python",
   "name": "python3"
  },
  "language_info": {
   "codemirror_mode": {
    "name": "ipython",
    "version": 3
   },
   "file_extension": ".py",
   "mimetype": "text/x-python",
   "name": "python",
   "nbconvert_exporter": "python",
   "pygments_lexer": "ipython3",
   "version": "3.9.13"
  }
 },
 "nbformat": 4,
 "nbformat_minor": 5
}
