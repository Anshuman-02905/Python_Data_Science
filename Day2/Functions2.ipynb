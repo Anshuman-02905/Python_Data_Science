{
 "cells": [
  {
   "cell_type": "code",
   "execution_count": 1,
   "id": "f4e3b9ac-6ef0-43c8-b43d-135ca1a92dcc",
   "metadata": {},
   "outputs": [],
   "source": [
    "def func1(list1, list2, list3, list4):\n",
    "    max_strings = []\n",
    "    \n",
    "    for lst in [list1, list2, list3, list4]:\n",
    "        max_str = \"\"\n",
    "        for string in lst:\n",
    "            if len(string) > len(max_str):\n",
    "                max_str = string\n",
    "        max_strings.append(len(max_str))\n",
    "    \n",
    "    return max_strings\n"
   ]
  },
  {
   "cell_type": "code",
   "execution_count": 2,
   "id": "519823ad-c283-43a3-9959-9b6d703cd994",
   "metadata": {},
   "outputs": [],
   "source": [
    "def func2(list_temp):\n",
    "    total_sum=sum(list_temp)\n",
    "    normalized=[]\n",
    "    for length in list_temp:\n",
    "        normalized.append(length/total_sum)\n",
    "    return normalized"
   ]
  },
  {
   "cell_type": "code",
   "execution_count": 3,
   "id": "22f1f8ef-a107-4b2e-855a-d2e6940468f4",
   "metadata": {},
   "outputs": [
    {
     "name": "stdout",
     "output_type": "stream",
     "text": [
      "[5, 9, 9, 10]\n"
     ]
    },
    {
     "data": {
      "text/plain": [
       "[0.15151515151515152,\n",
       " 0.2727272727272727,\n",
       " 0.2727272727272727,\n",
       " 0.30303030303030304]"
      ]
     },
     "execution_count": 3,
     "metadata": {},
     "output_type": "execute_result"
    }
   ],
   "source": [
    "list1 = [\"book\", \"man\", \"woman\"]\n",
    "list2 = [\"charector\", \"python\", \"location\", \"green\"]\n",
    "list3 = [\"python\", \"mumbai\",\"melbourne\"]\n",
    "list4 = [\"parliament\", \"sports\", \"ecommerce\"]\n",
    "\n",
    "result = func1(list1, list2, list3, list4)\n",
    "print(result)\n",
    "func2(result)"
   ]
  },
  {
   "cell_type": "code",
   "execution_count": null,
   "id": "95e5eaf7-ea4a-45a9-aa68-78d74b7331d3",
   "metadata": {},
   "outputs": [],
   "source": []
  }
 ],
 "metadata": {
  "kernelspec": {
   "display_name": "Python 3 (ipykernel)",
   "language": "python",
   "name": "python3"
  },
  "language_info": {
   "codemirror_mode": {
    "name": "ipython",
    "version": 3
   },
   "file_extension": ".py",
   "mimetype": "text/x-python",
   "name": "python",
   "nbconvert_exporter": "python",
   "pygments_lexer": "ipython3",
   "version": "3.9.13"
  }
 },
 "nbformat": 4,
 "nbformat_minor": 5
}
