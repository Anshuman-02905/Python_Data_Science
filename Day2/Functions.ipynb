{
 "cells": [
  {
   "cell_type": "code",
   "execution_count": 1,
   "id": "edaff947-cec8-4c8f-a8a2-cc30922fcbab",
   "metadata": {},
   "outputs": [
    {
     "name": "stdout",
     "output_type": "stream",
     "text": [
      "foobar\n"
     ]
    }
   ],
   "source": [
    "def concatenate_strings(string1, string2):\n",
    "    concatenated_string = string1 + string2\n",
    "    print(concatenated_string)\n",
    "\n",
    "# Example usage\n",
    "string1 = 'foo'\n",
    "string2 = 'bar'\n",
    "concatenate_strings(string1, string2)"
   ]
  },
  {
   "cell_type": "code",
   "execution_count": 2,
   "id": "77b6cead-a7dd-474a-ad39-edabe729a232",
   "metadata": {},
   "outputs": [
    {
     "name": "stdout",
     "output_type": "stream",
     "text": [
      "foo bar\n"
     ]
    }
   ],
   "source": [
    "def concatenate_with_space(string1, string2):\n",
    "    concatenated_string = string1 + ' ' + string2\n",
    "    print(concatenated_string)\n",
    "\n",
    "# Example usage\n",
    "string1 = 'foo'\n",
    "string2 = 'bar'\n",
    "concatenate_with_space(string1, string2)"
   ]
  },
  {
   "cell_type": "code",
   "execution_count": 3,
   "id": "8f08bd16-eea5-4abc-b81b-bbd210895858",
   "metadata": {},
   "outputs": [
    {
     "name": "stdout",
     "output_type": "stream",
     "text": [
      "0\n"
     ]
    }
   ],
   "source": [
    "def print_length_difference(string1, string2):\n",
    "    length_difference = len(string1) - len(string2)\n",
    "    print(length_difference)\n",
    "\n",
    "# Example usage\n",
    "string1 = 'foo'\n",
    "string2 = 'bar'\n",
    "print_length_difference(string1, string2)"
   ]
  },
  {
   "cell_type": "code",
   "execution_count": 4,
   "id": "cea1cd80-c199-4c34-acaf-6e46330237f5",
   "metadata": {},
   "outputs": [
    {
     "name": "stdout",
     "output_type": "stream",
     "text": [
      "Result of add: 102\n"
     ]
    }
   ],
   "source": [
    "def perform_operation(number1, number2, operation):\n",
    "    result = None\n",
    "    \n",
    "    if operation == 'add':\n",
    "        result = number1 + number2\n",
    "    elif operation == 'subtract':\n",
    "        result = number1 - number2\n",
    "    elif operation == 'multiply':\n",
    "        result = number1 * number2\n",
    "    elif operation == 'divide':\n",
    "        if number2 != 0:\n",
    "            result = number1 / number2\n",
    "        else:\n",
    "            print(\"Error: Division by zero is not allowed.\")\n",
    "    \n",
    "    if result is not None:\n",
    "        print(f\"Result of {operation}: {result}\")\n",
    "\n",
    "# Example usage\n",
    "number1 = 2\n",
    "number2 = 100\n",
    "operation = 'add'\n",
    "perform_operation(number1, number2, operation)"
   ]
  },
  {
   "cell_type": "code",
   "execution_count": null,
   "id": "43bbe0e9-6aff-4e66-ad30-629639c20356",
   "metadata": {},
   "outputs": [],
   "source": []
  }
 ],
 "metadata": {
  "kernelspec": {
   "display_name": "Python 3 (ipykernel)",
   "language": "python",
   "name": "python3"
  },
  "language_info": {
   "codemirror_mode": {
    "name": "ipython",
    "version": 3
   },
   "file_extension": ".py",
   "mimetype": "text/x-python",
   "name": "python",
   "nbconvert_exporter": "python",
   "pygments_lexer": "ipython3",
   "version": "3.9.13"
  }
 },
 "nbformat": 4,
 "nbformat_minor": 5
}
