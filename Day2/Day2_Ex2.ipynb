{
 "cells": [
  {
   "cell_type": "markdown",
   "id": "4714e214-6496-49fe-ad64-aa85f468718e",
   "metadata": {},
   "source": [
    "## Exercise :\n",
    "\n",
    "Create a list of 10 employees\n",
    "Create tuple of salaries of these 10 employees\n",
    "Create a tuple of rating of these 10 employees ( 0 - 10 )\n",
    "Generate a dictionary of employees and their new salaries based on their ratings The update to salaries should be as\n",
    "a. For rating 0 - 3 no salaries should be updated\n",
    "\n",
    "b. For rating 3 - 5 a 3% increment to be given\n",
    "\n",
    "c. For rating 5 - 7 a 5% increment to be given\n",
    "\n",
    "d. For rating 7 - 9 a 7% increment to be given\n",
    "\n",
    "e. For rating 9 and above a 7% increment and a bonus of 10% of initial salary to be given"
   ]
  },
  {
   "cell_type": "code",
   "execution_count": 1,
   "id": "97e64355-9d99-4a03-aefa-308d5fa9e53a",
   "metadata": {},
   "outputs": [],
   "source": [
    "employee = ['John', 'Mary', 'Krishna', 'Namesh', 'Aastha', 'Jason', 'Kavita', 'Ravi', 'Shruti', 'Shubham']\n",
    "salaries = (10000, 12000, 13000, 18500, 11000, 19800, 20000, 23500, 19450, 8000)\n",
    "ratings = (2.3, 4.7, 4.3, 9.9, 8.4, 6.1, 6.1, 4.0, 8.8, 9.3)"
   ]
  },
  {
   "cell_type": "code",
   "execution_count": 2,
   "id": "fbe6c998-d4d6-483a-9f29-dc8d0360a9f7",
   "metadata": {},
   "outputs": [],
   "source": [
    "dictlist = {}\n",
    "\n",
    "for emp, sal, rat in zip(employee, salaries, ratings):\n",
    "    \n",
    "    if 0.0 <= rat < 3.0 :\n",
    "        dictlist[emp]=sal\n",
    "    elif 3.0 <= rat < 5.0 :\n",
    "        sal += (sal*(3/100))\n",
    "        dictlist[emp]=sal\n",
    "    elif 5.0 <= rat < 7.0 :\n",
    "        sal += (sal*(5/10))\n",
    "        dictlist[emp]=sal\n",
    "    elif 7.0 <= rat < 9.0 : \n",
    "        sal += (sal*(7/100))\n",
    "        dictlist[emp]=sal\n",
    "    elif 9.0 <= rat : \n",
    "        sal += ((sal*(7/100)) + (sal*(10/100))) \n",
    "        dictlist[emp]=sal\n",
    "    else:\n",
    "        print('Invalid Rating')"
   ]
  },
  {
   "cell_type": "code",
   "execution_count": 3,
   "id": "1fdb9541-f866-4dab-bb53-b07ebc0072c2",
   "metadata": {},
   "outputs": [
    {
     "name": "stdout",
     "output_type": "stream",
     "text": [
      "{'John': 10000, 'Mary': 12360.0, 'Krishna': 13390.0, 'Namesh': 21645.0, 'Aastha': 11770.0, 'Jason': 29700.0, 'Kavita': 30000.0, 'Ravi': 24205.0, 'Shruti': 20811.5, 'Shubham': 9360.0}\n"
     ]
    }
   ],
   "source": [
    "print(dictlist)"
   ]
  },
  {
   "cell_type": "code",
   "execution_count": null,
   "id": "58bfd9ff-4e32-478b-9033-dbc33c2532eb",
   "metadata": {},
   "outputs": [],
   "source": []
  }
 ],
 "metadata": {
  "kernelspec": {
   "display_name": "Python 3 (ipykernel)",
   "language": "python",
   "name": "python3"
  },
  "language_info": {
   "codemirror_mode": {
    "name": "ipython",
    "version": 3
   },
   "file_extension": ".py",
   "mimetype": "text/x-python",
   "name": "python",
   "nbconvert_exporter": "python",
   "pygments_lexer": "ipython3",
   "version": "3.9.13"
  }
 },
 "nbformat": 4,
 "nbformat_minor": 5
}
