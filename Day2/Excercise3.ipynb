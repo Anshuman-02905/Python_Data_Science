{
 "cells": [
  {
   "cell_type": "markdown",
   "id": "40b863d2-23dc-4264-994d-94a68ad17cdc",
   "metadata": {},
   "source": [
    "Write a function which takes in multiple names as a list. The function should return the pair of names in Capital and the length of the name. For example\n",
    "\n",
    "\n",
    "Input : [‘Ravi’, ‘Sanjeev’, ‘John’]\n",
    "\n",
    "Output : [(‘RAVI’, 4), (‘SANJEEV’, 7), (‘JOHN’, 4)]\n"
   ]
  },
  {
   "cell_type": "code",
   "execution_count": 4,
   "id": "62a6310a-52bc-42ba-af0b-ec82997aaf21",
   "metadata": {},
   "outputs": [
    {
     "name": "stdout",
     "output_type": "stream",
     "text": [
      "[('RAVI', 4), ('SANJEEV', 7), ('JOHN', 4)]\n"
     ]
    }
   ],
   "source": [
    "def name_pairs(names_list):\n",
    "    pairs = [(name.upper(), len(name)) for name in names_list]\n",
    "    return pairs\n",
    "\n",
    "# Example usage\n",
    "names = ['Ravi', 'Sanjeev', 'John']\n",
    "result = name_pairs(names)\n",
    "print(result)"
   ]
  },
  {
   "cell_type": "code",
   "execution_count": 5,
   "id": "fcdb4bff-4590-4cca-bc17-86c022ac8ed4",
   "metadata": {},
   "outputs": [
    {
     "name": "stdout",
     "output_type": "stream",
     "text": [
      "[1984, 13, 1000]\n"
     ]
    }
   ],
   "source": [
    "def extract_numbers(sentence):\n",
    "    numbers = []\n",
    "    current_number = \"\"\n",
    "    \n",
    "    for char in sentence:\n",
    "        if char.isdigit():\n",
    "            current_number += char\n",
    "        elif current_number!=\"\":\n",
    "            numbers.append(int(current_number))\n",
    "            current_number = \"\"\n",
    "    \n",
    "    if current_number:\n",
    "        numbers.append(int(current_number))\n",
    "    \n",
    "    return numbers\n",
    "\n",
    "# Example usage\n",
    "sentence = 'In 1984 there were 13 instances of a protest with over 1000 people attending'\n",
    "numbers_list = extract_numbers(sentence)\n",
    "print(numbers_list)"
   ]
  },
  {
   "cell_type": "code",
   "execution_count": null,
   "id": "2eb7a699-17bb-4a29-a770-ca379a99bb62",
   "metadata": {},
   "outputs": [],
   "source": []
  }
 ],
 "metadata": {
  "kernelspec": {
   "display_name": "Python 3 (ipykernel)",
   "language": "python",
   "name": "python3"
  },
  "language_info": {
   "codemirror_mode": {
    "name": "ipython",
    "version": 3
   },
   "file_extension": ".py",
   "mimetype": "text/x-python",
   "name": "python",
   "nbconvert_exporter": "python",
   "pygments_lexer": "ipython3",
   "version": "3.9.13"
  }
 },
 "nbformat": 4,
 "nbformat_minor": 5
}
